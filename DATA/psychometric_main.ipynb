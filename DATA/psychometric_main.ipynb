{
  "cells": [
    {
      "cell_type": "code",
      "execution_count": 56,
      "metadata": {
        "id": "Je9k9Lp-N0l3"
      },
      "outputs": [],
      "source": [
        "import pandas as pd\n",
        "import numpy as  np\n",
        "from sklearn.model_selection import train_test_split, GridSearchCV\n",
        "from sklearn.naive_bayes import MultinomialNB\n",
        "# from sklearn.svm import SVC\n",
        "# from sklearn.neighbors import KNeighborsClassifier\n",
        "# from sklearn.ensemble import GradientBoostingClassifier\n",
        "from sklearn.ensemble import RandomForestClassifier\n",
        "from sklearn.metrics import accuracy_score, classification_report, confusion_matrix\n",
        "from sklearn.preprocessing import MultiLabelBinarizer\n",
        "import ast\n",
        "from joblib import dump,load"
      ]
    },
    {
      "cell_type": "code",
      "execution_count": 23,
      "metadata": {},
      "outputs": [
        {
          "name": "stdout",
          "output_type": "stream",
          "text": [
            "/mnt/c/Users/Ibinabo/Documents/DATA SCIENCE/WOMEN TECHSTER'S DATA SCIENCE AND AI FELLOWSHIP PROGRAM/PROJECTS/capstone_tec4dev\n"
          ]
        }
      ],
      "source": [
        "import os\n",
        "print(os.getcwd())"
      ]
    },
    {
      "cell_type": "code",
      "execution_count": 24,
      "metadata": {},
      "outputs": [
        {
          "name": "stdout",
          "output_type": "stream",
          "text": [
            "/mnt/c/Users/Ibinabo/Documents/DATA SCIENCE/WOMEN TECHSTER'S DATA SCIENCE AND AI FELLOWSHIP PROGRAM/PROJECTS/capstone_tec4dev\n"
          ]
        }
      ],
      "source": [
        "os.chdir(\"/mnt/c/Users/Ibinabo/Documents/DATA SCIENCE/WOMEN TECHSTER'S DATA SCIENCE AND AI FELLOWSHIP PROGRAM/PROJECTS/capstone_tec4dev\")\n",
        "print(os.getcwd())"
      ]
    },
    {
      "cell_type": "code",
      "execution_count": 25,
      "metadata": {
        "id": "ZAjoEdeDOSnB"
      },
      "outputs": [],
      "source": [
        "filepath = \"./DATA/psychometric_test_1000.csv\"\n",
        "df = pd.read_csv(filepath)"
      ]
    },
    {
      "cell_type": "code",
      "execution_count": 26,
      "metadata": {
        "colab": {
          "base_uri": "https://localhost:8080/",
          "height": 414
        },
        "id": "CiGb6aWBOXt4",
        "outputId": "88733ea6-6667-4d78-e8a1-9ef1a89c3904"
      },
      "outputs": [
        {
          "data": {
            "text/html": [
              "<div>\n",
              "<style scoped>\n",
              "    .dataframe tbody tr th:only-of-type {\n",
              "        vertical-align: middle;\n",
              "    }\n",
              "\n",
              "    .dataframe tbody tr th {\n",
              "        vertical-align: top;\n",
              "    }\n",
              "\n",
              "    .dataframe thead th {\n",
              "        text-align: right;\n",
              "    }\n",
              "</style>\n",
              "<table border=\"1\" class=\"dataframe\">\n",
              "  <thead>\n",
              "    <tr style=\"text-align: right;\">\n",
              "      <th></th>\n",
              "      <th>Mathematical Aptitude</th>\n",
              "      <th>Logical Reasoning</th>\n",
              "      <th>Openness</th>\n",
              "      <th>Conscientiousness</th>\n",
              "      <th>Emotional Stability</th>\n",
              "      <th>Agreeableness/ Assertiveness</th>\n",
              "      <th>Creativity</th>\n",
              "      <th>Aptitude</th>\n",
              "      <th>Programming</th>\n",
              "      <th>Design Software</th>\n",
              "      <th>3D Skills</th>\n",
              "      <th>Web Development Confidence</th>\n",
              "      <th>Suggested Tracks</th>\n",
              "    </tr>\n",
              "  </thead>\n",
              "  <tbody>\n",
              "    <tr>\n",
              "      <th>0</th>\n",
              "      <td>Bad</td>\n",
              "      <td>Excellent</td>\n",
              "      <td>Somewhat Open</td>\n",
              "      <td>Not</td>\n",
              "      <td>Pressured (Composed)</td>\n",
              "      <td>Cooperative</td>\n",
              "      <td>Creative</td>\n",
              "      <td>Technically Inclined</td>\n",
              "      <td>Intermediate</td>\n",
              "      <td>Basic</td>\n",
              "      <td>Moderate Experienced</td>\n",
              "      <td>Not Confident</td>\n",
              "      <td>['Software Development', 'Blockchain']</td>\n",
              "    </tr>\n",
              "    <tr>\n",
              "      <th>1</th>\n",
              "      <td>Average</td>\n",
              "      <td>Excellent</td>\n",
              "      <td>Not Open</td>\n",
              "      <td>Highly</td>\n",
              "      <td>Calm</td>\n",
              "      <td>Assertive</td>\n",
              "      <td>Creative</td>\n",
              "      <td>Technically Inclined</td>\n",
              "      <td>Advanced</td>\n",
              "      <td>Not Proficient</td>\n",
              "      <td>High Experienced</td>\n",
              "      <td>Highly Confident</td>\n",
              "      <td>['3D Animation Skills', 'Product Design']</td>\n",
              "    </tr>\n",
              "    <tr>\n",
              "      <th>2</th>\n",
              "      <td>Average</td>\n",
              "      <td>Average</td>\n",
              "      <td>Open</td>\n",
              "      <td>Not</td>\n",
              "      <td>Calm</td>\n",
              "      <td>Cooperative</td>\n",
              "      <td>Not Creative</td>\n",
              "      <td>Technically Inclined</td>\n",
              "      <td>Advanced</td>\n",
              "      <td>Highly Proficient</td>\n",
              "      <td>High Experienced</td>\n",
              "      <td>Not Confident</td>\n",
              "      <td>['3D Animation Skills', 'Product Design']</td>\n",
              "    </tr>\n",
              "    <tr>\n",
              "      <th>3</th>\n",
              "      <td>Bad</td>\n",
              "      <td>Excellent</td>\n",
              "      <td>Somewhat Open</td>\n",
              "      <td>Highly</td>\n",
              "      <td>Overwhelmed</td>\n",
              "      <td>Cooperative</td>\n",
              "      <td>Creative</td>\n",
              "      <td>Technically Inclined</td>\n",
              "      <td>Intermediate</td>\n",
              "      <td>Highly Proficient</td>\n",
              "      <td>Not Experienced</td>\n",
              "      <td>Not Confident</td>\n",
              "      <td>['Cyber Security', 'Data Science']</td>\n",
              "    </tr>\n",
              "    <tr>\n",
              "      <th>4</th>\n",
              "      <td>Excellent</td>\n",
              "      <td>Bad</td>\n",
              "      <td>Somewhat Open</td>\n",
              "      <td>Moderate</td>\n",
              "      <td>Calm</td>\n",
              "      <td>Cooperative</td>\n",
              "      <td>Creative</td>\n",
              "      <td>Not Technically Inclined</td>\n",
              "      <td>Intermediate</td>\n",
              "      <td>Basic</td>\n",
              "      <td>Moderate Experienced</td>\n",
              "      <td>Highly Confident</td>\n",
              "      <td>['Software Development', 'Blockchain']</td>\n",
              "    </tr>\n",
              "  </tbody>\n",
              "</table>\n",
              "</div>"
            ],
            "text/plain": [
              "  Mathematical Aptitude Logical Reasoning       Openness Conscientiousness  \\\n",
              "0                   Bad         Excellent  Somewhat Open               Not   \n",
              "1               Average         Excellent       Not Open            Highly   \n",
              "2               Average           Average           Open               Not   \n",
              "3                   Bad         Excellent  Somewhat Open            Highly   \n",
              "4             Excellent               Bad  Somewhat Open          Moderate   \n",
              "\n",
              "    Emotional Stability Agreeableness/ Assertiveness    Creativity  \\\n",
              "0  Pressured (Composed)                  Cooperative      Creative   \n",
              "1                  Calm                    Assertive      Creative   \n",
              "2                  Calm                  Cooperative  Not Creative   \n",
              "3           Overwhelmed                  Cooperative      Creative   \n",
              "4                  Calm                  Cooperative      Creative   \n",
              "\n",
              "                   Aptitude   Programming    Design Software  \\\n",
              "0      Technically Inclined  Intermediate              Basic   \n",
              "1      Technically Inclined      Advanced     Not Proficient   \n",
              "2      Technically Inclined      Advanced  Highly Proficient   \n",
              "3      Technically Inclined  Intermediate  Highly Proficient   \n",
              "4  Not Technically Inclined  Intermediate              Basic   \n",
              "\n",
              "              3D Skills Web Development Confidence  \\\n",
              "0  Moderate Experienced              Not Confident   \n",
              "1      High Experienced           Highly Confident   \n",
              "2      High Experienced              Not Confident   \n",
              "3       Not Experienced              Not Confident   \n",
              "4  Moderate Experienced           Highly Confident   \n",
              "\n",
              "                            Suggested Tracks  \n",
              "0     ['Software Development', 'Blockchain']  \n",
              "1  ['3D Animation Skills', 'Product Design']  \n",
              "2  ['3D Animation Skills', 'Product Design']  \n",
              "3         ['Cyber Security', 'Data Science']  \n",
              "4     ['Software Development', 'Blockchain']  "
            ]
          },
          "execution_count": 26,
          "metadata": {},
          "output_type": "execute_result"
        }
      ],
      "source": [
        "df.head()"
      ]
    },
    {
      "cell_type": "code",
      "execution_count": 27,
      "metadata": {
        "colab": {
          "base_uri": "https://localhost:8080/"
        },
        "id": "2fp33z_mOXrT",
        "outputId": "5edc5f79-dd1b-42cd-aab2-d57f42085c0a"
      },
      "outputs": [
        {
          "data": {
            "text/plain": [
              "(1000, 13)"
            ]
          },
          "execution_count": 27,
          "metadata": {},
          "output_type": "execute_result"
        }
      ],
      "source": [
        "df.shape"
      ]
    },
    {
      "cell_type": "code",
      "execution_count": 28,
      "metadata": {
        "id": "q8vrcafiOmjB"
      },
      "outputs": [],
      "source": [
        "df2 = df"
      ]
    },
    {
      "cell_type": "code",
      "execution_count": 29,
      "metadata": {
        "id": "LFN06QnEOXoI"
      },
      "outputs": [],
      "source": [
        "X = df2.drop(columns=[\"Suggested Tracks\"])\n",
        "y = df2[\"Suggested Tracks\"]"
      ]
    },
    {
      "cell_type": "code",
      "execution_count": 30,
      "metadata": {},
      "outputs": [
        {
          "name": "stdout",
          "output_type": "stream",
          "text": [
            "0       ['Software Development', 'Blockchain']\n",
            "1    ['3D Animation Skills', 'Product Design']\n",
            "2    ['3D Animation Skills', 'Product Design']\n",
            "3           ['Cyber Security', 'Data Science']\n",
            "4       ['Software Development', 'Blockchain']\n",
            "Name: Suggested Tracks, dtype: object\n"
          ]
        }
      ],
      "source": [
        "print(y.head())"
      ]
    },
    {
      "cell_type": "code",
      "execution_count": 31,
      "metadata": {
        "colab": {
          "base_uri": "https://localhost:8080/"
        },
        "id": "0zOJIEWp71Cl",
        "outputId": "52960b5e-eb86-4c20-b8a0-5f0defd1df52"
      },
      "outputs": [
        {
          "name": "stdout",
          "output_type": "stream",
          "text": [
            "Encoding mapping for Mathematical Aptitude: {'Average': 0, 'Bad': 1, 'Excellent': 2}\n",
            "Encoding mapping for Logical Reasoning: {'Average': 0, 'Bad': 1, 'Excellent': 2}\n",
            "Encoding mapping for Openness: {'Not Open': 0, 'Open': 1, 'Somewhat Open': 2}\n",
            "Encoding mapping for Conscientiousness: {'Highly': 0, 'Moderate': 1, 'Not': 2}\n",
            "Encoding mapping for Emotional Stability: {'Calm': 0, 'Overwhelmed': 1, 'Pressured (Composed)': 2}\n",
            "Encoding mapping for Agreeableness/ Assertiveness: {'Assertive': 0, 'Cooperative': 1}\n",
            "Encoding mapping for Creativity: {'Creative': 0, 'Not Creative': 1}\n",
            "Encoding mapping for Aptitude: {'Not Technically Inclined': 0, 'Technically Inclined': 1}\n",
            "Encoding mapping for Programming: {'Advanced': 0, 'Basic': 1, 'Intermediate': 2}\n",
            "Encoding mapping for Design Software: {'Basic': 0, 'Highly Proficient': 1, 'Not Proficient': 2, 'Proficient': 3}\n",
            "Encoding mapping for 3D Skills: {'High Experienced': 0, 'Moderate Experienced': 1, 'Not Experienced': 2}\n",
            "Encoding mapping for Web Development Confidence: {'Highly Confident': 0, 'Moderately Confident': 1, 'Not Confident': 2}\n"
          ]
        }
      ],
      "source": [
        "from sklearn.preprocessing import LabelEncoder\n",
        "\n",
        "\n",
        "# Assuming X is your DataFrame after label encoding\n",
        "# Encode each categorical column using LabelEncoder\n",
        "for col in X.columns:\n",
        "    if X[col].dtype == object:  # Check for object type (categorical data)\n",
        "        encoder = LabelEncoder()\n",
        "        X[col] = encoder.fit_transform(X[col])\n",
        "        \n",
        "        #sanitize column name to remove spaces or slashes that could lead to error while saving\n",
        "        safe_col_name = col.replace(' ','_').replace('/','_').replace('\\\\','_').replace('-','_')\n",
        "        \n",
        "        # Construct the file path using os.path.join for better compatibility\n",
        "        file_path = os.path.join('DATA',f'{safe_col_name}_encoder.joblib')\n",
        "\n",
        "        # save each encoder with sanitized name\n",
        "        joblib.dump(encoder, file_path)\n",
        "        \n",
        "        # Get encoding mapping for the current column\n",
        "        encoding_mapping = dict(zip(encoder.classes_, encoder.transform(encoder.classes_)))\n",
        "        print(f\"Encoding mapping for {col}: {encoding_mapping}\")\n"
      ]
    },
    {
      "cell_type": "code",
      "execution_count": 32,
      "metadata": {
        "colab": {
          "base_uri": "https://localhost:8080/",
          "height": 223
        },
        "id": "xWnPvsKjx2B0",
        "outputId": "58f3197a-62e5-4acd-84a8-d34b16fecc6a"
      },
      "outputs": [
        {
          "data": {
            "text/html": [
              "<div>\n",
              "<style scoped>\n",
              "    .dataframe tbody tr th:only-of-type {\n",
              "        vertical-align: middle;\n",
              "    }\n",
              "\n",
              "    .dataframe tbody tr th {\n",
              "        vertical-align: top;\n",
              "    }\n",
              "\n",
              "    .dataframe thead th {\n",
              "        text-align: right;\n",
              "    }\n",
              "</style>\n",
              "<table border=\"1\" class=\"dataframe\">\n",
              "  <thead>\n",
              "    <tr style=\"text-align: right;\">\n",
              "      <th></th>\n",
              "      <th>Mathematical Aptitude</th>\n",
              "      <th>Logical Reasoning</th>\n",
              "      <th>Openness</th>\n",
              "      <th>Conscientiousness</th>\n",
              "      <th>Emotional Stability</th>\n",
              "      <th>Agreeableness/ Assertiveness</th>\n",
              "      <th>Creativity</th>\n",
              "      <th>Aptitude</th>\n",
              "      <th>Programming</th>\n",
              "      <th>Design Software</th>\n",
              "      <th>3D Skills</th>\n",
              "      <th>Web Development Confidence</th>\n",
              "    </tr>\n",
              "  </thead>\n",
              "  <tbody>\n",
              "    <tr>\n",
              "      <th>0</th>\n",
              "      <td>1</td>\n",
              "      <td>2</td>\n",
              "      <td>2</td>\n",
              "      <td>2</td>\n",
              "      <td>2</td>\n",
              "      <td>1</td>\n",
              "      <td>0</td>\n",
              "      <td>1</td>\n",
              "      <td>2</td>\n",
              "      <td>0</td>\n",
              "      <td>1</td>\n",
              "      <td>2</td>\n",
              "    </tr>\n",
              "    <tr>\n",
              "      <th>1</th>\n",
              "      <td>0</td>\n",
              "      <td>2</td>\n",
              "      <td>0</td>\n",
              "      <td>0</td>\n",
              "      <td>0</td>\n",
              "      <td>0</td>\n",
              "      <td>0</td>\n",
              "      <td>1</td>\n",
              "      <td>0</td>\n",
              "      <td>2</td>\n",
              "      <td>0</td>\n",
              "      <td>0</td>\n",
              "    </tr>\n",
              "    <tr>\n",
              "      <th>2</th>\n",
              "      <td>0</td>\n",
              "      <td>0</td>\n",
              "      <td>1</td>\n",
              "      <td>2</td>\n",
              "      <td>0</td>\n",
              "      <td>1</td>\n",
              "      <td>1</td>\n",
              "      <td>1</td>\n",
              "      <td>0</td>\n",
              "      <td>1</td>\n",
              "      <td>0</td>\n",
              "      <td>2</td>\n",
              "    </tr>\n",
              "    <tr>\n",
              "      <th>3</th>\n",
              "      <td>1</td>\n",
              "      <td>2</td>\n",
              "      <td>2</td>\n",
              "      <td>0</td>\n",
              "      <td>1</td>\n",
              "      <td>1</td>\n",
              "      <td>0</td>\n",
              "      <td>1</td>\n",
              "      <td>2</td>\n",
              "      <td>1</td>\n",
              "      <td>2</td>\n",
              "      <td>2</td>\n",
              "    </tr>\n",
              "    <tr>\n",
              "      <th>4</th>\n",
              "      <td>2</td>\n",
              "      <td>1</td>\n",
              "      <td>2</td>\n",
              "      <td>1</td>\n",
              "      <td>0</td>\n",
              "      <td>1</td>\n",
              "      <td>0</td>\n",
              "      <td>0</td>\n",
              "      <td>2</td>\n",
              "      <td>0</td>\n",
              "      <td>1</td>\n",
              "      <td>0</td>\n",
              "    </tr>\n",
              "  </tbody>\n",
              "</table>\n",
              "</div>"
            ],
            "text/plain": [
              "   Mathematical Aptitude  Logical Reasoning  Openness  Conscientiousness  \\\n",
              "0                      1                  2         2                  2   \n",
              "1                      0                  2         0                  0   \n",
              "2                      0                  0         1                  2   \n",
              "3                      1                  2         2                  0   \n",
              "4                      2                  1         2                  1   \n",
              "\n",
              "   Emotional Stability  Agreeableness/ Assertiveness  Creativity  Aptitude  \\\n",
              "0                    2                             1           0         1   \n",
              "1                    0                             0           0         1   \n",
              "2                    0                             1           1         1   \n",
              "3                    1                             1           0         1   \n",
              "4                    0                             1           0         0   \n",
              "\n",
              "   Programming  Design Software  3D Skills  Web Development Confidence  \n",
              "0            2                0          1                           2  \n",
              "1            0                2          0                           0  \n",
              "2            0                1          0                           2  \n",
              "3            2                1          2                           2  \n",
              "4            2                0          1                           0  "
            ]
          },
          "execution_count": 32,
          "metadata": {},
          "output_type": "execute_result"
        }
      ],
      "source": [
        "X.head()"
      ]
    },
    {
      "cell_type": "code",
      "execution_count": 33,
      "metadata": {},
      "outputs": [],
      "source": [
        "# encoding y\n",
        "# Convert each string representation to an actual list\n",
        "y_lists = y.apply(ast.literal_eval).tolist()\n",
        "\n",
        "\n"
      ]
    },
    {
      "cell_type": "code",
      "execution_count": 34,
      "metadata": {},
      "outputs": [
        {
          "name": "stdout",
          "output_type": "stream",
          "text": [
            "Encoded Labels: ['3D Animation Skills' 'Blockchain' 'Cyber Security' 'Data Science'\n",
            " 'Mobile App' 'Mobile Application' 'Product Design' 'Product Management'\n",
            " 'Software Development']\n"
          ]
        }
      ],
      "source": [
        "# Initialize the MultiLabelBinarizer\n",
        "mlb = MultiLabelBinarizer()\n",
        "\n",
        "# Fit and transform the labels in 'y' to a binary matrix\n",
        "y_encoded = mlb.fit_transform(y)\n",
        "\n",
        "y_encoded = mlb.fit_transform(y_lists)\n",
        "\n",
        "# Optionally, check the labels that have been encoded\n",
        "print(\"Encoded Labels:\", mlb.classes_)\n"
      ]
    },
    {
      "cell_type": "code",
      "execution_count": 35,
      "metadata": {},
      "outputs": [
        {
          "name": "stdout",
          "output_type": "stream",
          "text": [
            "MultiLabelBinarizer saved to DATA/multi_label_binarizer.joblib\n"
          ]
        }
      ],
      "source": [
        "# Define the file path for saving the MultiLabelBinarizer object\n",
        "mlb_file_path = os.path.join('DATA', 'multi_label_binarizer.joblib')\n",
        "\n",
        "# Save the MultiLabelBinarizer object for later use\n",
        "joblib.dump(mlb, mlb_file_path)\n",
        "\n",
        "print(f\"MultiLabelBinarizer saved to {mlb_file_path}\")\n",
        "\n",
        "\n"
      ]
    },
    {
      "cell_type": "code",
      "execution_count": 36,
      "metadata": {},
      "outputs": [
        {
          "name": "stdout",
          "output_type": "stream",
          "text": [
            "Classes found by MultiLabelBinarizer: ['3D Animation Skills' 'Blockchain' 'Cyber Security' 'Data Science'\n",
            " 'Mobile App' 'Mobile Application' 'Product Design' 'Product Management'\n",
            " 'Software Development']\n"
          ]
        }
      ],
      "source": [
        "# To view the classes (unique labels) it has learned:\n",
        "print(\"Classes found by MultiLabelBinarizer:\", mlb.classes_)"
      ]
    },
    {
      "cell_type": "code",
      "execution_count": 37,
      "metadata": {
        "id": "5No0xY_IOvle"
      },
      "outputs": [],
      "source": [
        "# Split the dataset into training and testing sets\n",
        "X_train, X_test, y_train, y_test = train_test_split(X, y, test_size=0.2, random_state=42)"
      ]
    },
    {
      "cell_type": "code",
      "execution_count": 38,
      "metadata": {
        "colab": {
          "base_uri": "https://localhost:8080/"
        },
        "id": "sjLZLub_O0fm",
        "outputId": "549bdf5e-d912-49d4-d193-82b0175e00ff"
      },
      "outputs": [
        {
          "name": "stdout",
          "output_type": "stream",
          "text": [
            "Random Forest Classifier Accuracy: 0.985\n"
          ]
        }
      ],
      "source": [
        "rf_clf = RandomForestClassifier(n_estimators=100, random_state=42)\n",
        "rf_clf.fit(X_train, y_train)\n",
        "rf_predictions = rf_clf.predict(X_test)\n",
        "rf_accuracy = accuracy_score(y_test, rf_predictions)\n",
        "print(\"Random Forest Classifier Accuracy:\", rf_accuracy)"
      ]
    },
    {
      "cell_type": "code",
      "execution_count": 39,
      "metadata": {
        "colab": {
          "base_uri": "https://localhost:8080/"
        },
        "id": "2I9Kq-EhPTWf",
        "outputId": "89eb7545-b3c0-4880-bc6a-98607eb827a3"
      },
      "outputs": [
        {
          "data": {
            "text/plain": [
              "1.0"
            ]
          },
          "execution_count": 39,
          "metadata": {},
          "output_type": "execute_result"
        }
      ],
      "source": [
        "rf_clf.score(X_train, y_train)"
      ]
    },
    {
      "cell_type": "code",
      "execution_count": 40,
      "metadata": {
        "colab": {
          "base_uri": "https://localhost:8080/"
        },
        "id": "I0PeV8sRPlY3",
        "outputId": "38b0bae2-bdbe-437e-a726-16f4e5ffe2d4"
      },
      "outputs": [
        {
          "data": {
            "text/plain": [
              "0.985"
            ]
          },
          "execution_count": 40,
          "metadata": {},
          "output_type": "execute_result"
        }
      ],
      "source": [
        "rf_clf.score(X_test, y_test)"
      ]
    },
    {
      "cell_type": "code",
      "execution_count": 41,
      "metadata": {
        "colab": {
          "base_uri": "https://localhost:8080/"
        },
        "id": "1k9gYlrtO9U0",
        "outputId": "9200f25e-d551-4f89-f608-a1c55d7887ad"
      },
      "outputs": [
        {
          "name": "stdout",
          "output_type": "stream",
          "text": [
            "                                                precision    recall  f1-score   support\n",
            "\n",
            "     ['3D Animation Skills', 'Product Design']       1.00      1.00      1.00        74\n",
            "            ['Cyber Security', 'Data Science']       0.95      1.00      0.97        36\n",
            "['Mobile Application', 'Software Development']       1.00      0.88      0.93         8\n",
            "          ['Product Management', 'Mobile App']       1.00      0.86      0.92         7\n",
            "        ['Software Development', 'Blockchain']       0.99      0.99      0.99        75\n",
            "\n",
            "                                      accuracy                           0.98       200\n",
            "                                     macro avg       0.99      0.94      0.96       200\n",
            "                                  weighted avg       0.99      0.98      0.98       200\n",
            "\n"
          ]
        }
      ],
      "source": [
        "print(classification_report(y_test, rf_predictions))"
      ]
    },
    {
      "cell_type": "markdown",
      "metadata": {
        "id": "mb0TURS5_Ffx"
      },
      "source": [
        "# Testing the model using a test data"
      ]
    },
    {
      "cell_type": "code",
      "execution_count": 42,
      "metadata": {
        "colab": {
          "base_uri": "https://localhost:8080/"
        },
        "id": "w2MDcVKLO0a0",
        "outputId": "a7830281-9c17-4890-9758-2059361f6d94"
      },
      "outputs": [],
      "source": [
        "# # Example prediction\n",
        "# data =\n",
        "# example = X.iloc[[0]]  # Taking the first row as an example\n",
        "# predicted_tracks = rf_clf.predict(example)\n",
        "# #predicted_tracks = predicted_tracks.reshape(-1, len(mlb.classes_))  # Reshape to (1, n_classes)\n",
        "# #predicted_tracks = mlb.inverse_transform(predicted_tracks)\n",
        "# print(\"Predicted Suggested Tracks:\", predicted_tracks)"
      ]
    },
    {
      "cell_type": "code",
      "execution_count": 59,
      "metadata": {
        "colab": {
          "base_uri": "https://localhost:8080/"
        },
        "id": "BTm7tdzp85G0",
        "outputId": "16a6b744-6566-4903-8783-c72c6e26956b"
      },
      "outputs": [
        {
          "name": "stdout",
          "output_type": "stream",
          "text": [
            "  Mathematical Aptitude Logical Reasoning Openness Conscientiousness  \\\n",
            "0                     0                 2        1                 0   \n",
            "\n",
            "  Emotional Stability Agreeableness/ Assertiveness Creativity Aptitude  \\\n",
            "0                   0                            0          0        1   \n",
            "\n",
            "  Programming Design Software 3D Skills Web Development Confidence  \n",
            "0           2               3         1                          1  \n"
          ]
        }
      ],
      "source": [
        "# # Sample data for one row\n",
        "# Encoding mapping for Mathematical Aptitude: {'Average': 0, 'Bad': 1, 'Excellent': 2}\n",
        "# Encoding mapping for Logical Reasoning: {'Average': 0, 'Bad': 1, 'Excellent': 2}\n",
        "# Encoding mapping for Openness: {'Not Open': 0, 'Open': 1, 'Somewhat Open': 2}\n",
        "# Encoding mapping for Conscientiousness: {'Highly': 0, 'Moderate': 1, 'Not': 2}\n",
        "# Encoding mapping for Emotional Stability: {'Calm': 0, 'Overwhelmed': 1, 'Pressured (Composed)': 2}\n",
        "# Encoding mapping for Agreeableness/ Assertiveness: {'Assertive': 0, 'Cooperative': 1}\n",
        "# Encoding mapping for Creativity: {'Creative': 0, 'Not Creative': 1}\n",
        "# Encoding mapping for Aptitude: {'Not Technically Inclined': 0, 'Technically Inclined': 1}\n",
        "# Encoding mapping for Programming: {'Advanced': 0, 'Basic': 1, 'Intermediate': 2}\n",
        "# Encoding mapping for Design Software: {'Basic': 0, 'Highly Proficient': 1, 'Not Proficient': 2, 'Proficient': 3}\n",
        "# Encoding mapping for 3D Skills: {'High Experienced': 0, 'Moderate Experienced': 1, 'Not Experienced': 2}\n",
        "# Encoding mapping for Web Development Confidence: {'Highly Confident': 0, 'Moderately Confident': 1, 'Not Confident': 2}\n",
        "\n",
        "sample_data = {\n",
        "    \"Mathematical Aptitude\": [\"0\"],\n",
        "    \"Logical Reasoning\": [\"2\"],\n",
        "    \"Openness\": [\"1\"],\n",
        "    \"Conscientiousness\": [\"0\"],\n",
        "    \"Emotional Stability\": [\"0\"],\n",
        "    \"Agreeableness/ Assertiveness\": [\"0\"],\n",
        "    \"Creativity\": [\"0\"],\n",
        "    \"Aptitude\": [\"1\"],\n",
        "    \"Programming\": [\"2\"],\n",
        "    \"Design Software\": [\"3\"],\n",
        "    \"3D Skills\": [\"1\"],\n",
        "    \"Web Development Confidence\": [\"1\"]\n",
        "}\n",
        "\n",
        "# Convert to DataFrame\n",
        "sample_df = pd.DataFrame(sample_data)\n",
        "\n",
        "# Display the DataFrame\n",
        "print(sample_df)"
      ]
    },
    {
      "cell_type": "code",
      "execution_count": null,
      "metadata": {},
      "outputs": [],
      "source": []
    },
    {
      "cell_type": "code",
      "execution_count": 44,
      "metadata": {
        "colab": {
          "base_uri": "https://localhost:8080/"
        },
        "id": "gCagTTel92Er",
        "outputId": "3487a60f-9579-4dc7-d263-d7b7e01cb7e7"
      },
      "outputs": [
        {
          "name": "stdout",
          "output_type": "stream",
          "text": [
            "Predicted Suggested Tracks: [\"['Software Development', 'Blockchain']\"]\n"
          ]
        }
      ],
      "source": [
        "# Example prediction\n",
        "\n",
        "example = sample_df.iloc[[0]]  # Taking the first row as an example\n",
        "predicted_tracks = rf_clf.predict(example)\n",
        "#predicted_tracks = predicted_tracks.reshape(-1, len(mlb.classes_))  # Reshape to (1, n_classes)\n",
        "#predicted_tracks = mlb.inverse_transform(predicted_tracks)\n",
        "print(\"Predicted Suggested Tracks:\", predicted_tracks)"
      ]
    },
    {
      "cell_type": "markdown",
      "metadata": {
        "id": "IvrFNca_-6I5"
      },
      "source": [
        "# Hyper Parameter Tuning for Random Forest"
      ]
    },
    {
      "cell_type": "code",
      "execution_count": 45,
      "metadata": {
        "id": "_Eeulu6VjzMe"
      },
      "outputs": [],
      "source": [
        "# Random Forest Classifier hyperparameters grid\n",
        "rf_param_grid = {'n_estimators': [50, 100, 150], 'max_depth': [None, 10, 20], 'min_samples_split': [2, 5, 10]}\n"
      ]
    },
    {
      "cell_type": "code",
      "execution_count": 46,
      "metadata": {
        "colab": {
          "base_uri": "https://localhost:8080/"
        },
        "id": "IOGGDIMkkBP5",
        "outputId": "c649f555-7972-463e-a690-38a2fa5702a0"
      },
      "outputs": [
        {
          "name": "stdout",
          "output_type": "stream",
          "text": [
            "Best Random Forest Model Parameters: {'max_depth': 10, 'min_samples_split': 5, 'n_estimators': 100}\n",
            "Best Random Forest Model Accuracy: 0.99\n"
          ]
        }
      ],
      "source": [
        "rf_grid_search = GridSearchCV(RandomForestClassifier(), rf_param_grid, cv=5)\n",
        "rf_grid_search.fit(X_train, y_train)\n",
        "rf_best_model = rf_grid_search.best_estimator_\n",
        "rf_predictions = rf_best_model.predict(X_test)\n",
        "rf_accuracy = accuracy_score(y_test, rf_predictions)\n",
        "print(\"Best Random Forest Model Parameters:\", rf_grid_search.best_params_)\n",
        "print(\"Best Random Forest Model Accuracy:\", rf_accuracy)"
      ]
    },
    {
      "cell_type": "code",
      "execution_count": 47,
      "metadata": {
        "colab": {
          "base_uri": "https://localhost:8080/"
        },
        "id": "T9EdcvTLnbJ6",
        "outputId": "2171589e-8338-41dd-82d6-ea2c589eba2f"
      },
      "outputs": [
        {
          "name": "stdout",
          "output_type": "stream",
          "text": [
            "[[74  0  0  0  0]\n",
            " [ 0 36  0  0  0]\n",
            " [ 0  0  7  0  1]\n",
            " [ 0  1  0  6  0]\n",
            " [ 0  0  0  0 75]]\n"
          ]
        }
      ],
      "source": [
        "print(confusion_matrix(y_test, rf_predictions))"
      ]
    },
    {
      "cell_type": "code",
      "execution_count": 48,
      "metadata": {
        "colab": {
          "base_uri": "https://localhost:8080/"
        },
        "id": "5pb6UnZhmReT",
        "outputId": "5cd48333-feb3-4a14-ea04-84ff173cb10a"
      },
      "outputs": [
        {
          "name": "stdout",
          "output_type": "stream",
          "text": [
            "                                                precision    recall  f1-score   support\n",
            "\n",
            "     ['3D Animation Skills', 'Product Design']       1.00      1.00      1.00        74\n",
            "            ['Cyber Security', 'Data Science']       0.97      1.00      0.99        36\n",
            "['Mobile Application', 'Software Development']       1.00      0.88      0.93         8\n",
            "          ['Product Management', 'Mobile App']       1.00      0.86      0.92         7\n",
            "        ['Software Development', 'Blockchain']       0.99      1.00      0.99        75\n",
            "\n",
            "                                      accuracy                           0.99       200\n",
            "                                     macro avg       0.99      0.95      0.97       200\n",
            "                                  weighted avg       0.99      0.99      0.99       200\n",
            "\n"
          ]
        }
      ],
      "source": [
        "print(classification_report(y_test, rf_predictions))"
      ]
    },
    {
      "cell_type": "code",
      "execution_count": 49,
      "metadata": {
        "colab": {
          "base_uri": "https://localhost:8080/"
        },
        "id": "TYKUZ2srkbj_",
        "outputId": "c2b2fd35-32c4-4008-a026-119926c85f0a"
      },
      "outputs": [
        {
          "name": "stdout",
          "output_type": "stream",
          "text": [
            "Naive Bayes (Multinomial) Classifier Accuracy: 0.51\n"
          ]
        }
      ],
      "source": [
        "# Train Naive Bayes (Multinomial) Classifier\n",
        "nb_clf = MultinomialNB()\n",
        "nb_clf.fit(X_train, y_train)\n",
        "nb_predictions = nb_clf.predict(X_test)\n",
        "nb_accuracy = accuracy_score(y_test, nb_predictions)\n",
        "print(\"Naive Bayes (Multinomial) Classifier Accuracy:\", nb_accuracy)"
      ]
    },
    {
      "cell_type": "code",
      "execution_count": 50,
      "metadata": {
        "id": "EZoyx5Noj2cf"
      },
      "outputs": [],
      "source": [
        "\n",
        "# Naive Bayes (Multinomial) Classifier hyperparameters grid\n",
        "nb_param_grid = {'alpha': [0.1, 1, 10], 'fit_prior': [True, False]}"
      ]
    },
    {
      "cell_type": "code",
      "execution_count": 51,
      "metadata": {
        "colab": {
          "base_uri": "https://localhost:8080/"
        },
        "id": "1ZtaFBywkCLF",
        "outputId": "5080db4a-7415-4b68-e9f7-4fd064aef175"
      },
      "outputs": [
        {
          "name": "stdout",
          "output_type": "stream",
          "text": [
            "Best Naive Bayes (Multinomial) Model Parameters: {'alpha': 10, 'fit_prior': True}\n",
            "Best Naive Bayes (Multinomial) Model Accuracy: 0.515\n"
          ]
        }
      ],
      "source": [
        "\n",
        "# Perform GridSearchCV for Naive Bayes (Multinomial)\n",
        "nb_grid_search = GridSearchCV(MultinomialNB(), nb_param_grid, cv=5)\n",
        "nb_grid_search.fit(X_train, y_train)\n",
        "nb_best_model = nb_grid_search.best_estimator_\n",
        "nb_predictions = nb_best_model.predict(X_test)\n",
        "nb_accuracy = accuracy_score(y_test, nb_predictions)\n",
        "print(\"Best Naive Bayes (Multinomial) Model Parameters:\", nb_grid_search.best_params_)\n",
        "print(\"Best Naive Bayes (Multinomial) Model Accuracy:\", nb_accuracy)"
      ]
    },
    {
      "cell_type": "markdown",
      "metadata": {},
      "source": [
        "## ☄ **Model Deplyment**\n",
        "\n",
        "---\n",
        "\n",
        "Before deployment, the best model (Random Forest) will be serialized (saved) for export and deployment."
      ]
    },
    {
      "cell_type": "code",
      "execution_count": 57,
      "metadata": {},
      "outputs": [
        {
          "data": {
            "text/plain": [
              "['DATA/rf_best_model.joblib']"
            ]
          },
          "execution_count": 57,
          "metadata": {},
          "output_type": "execute_result"
        }
      ],
      "source": [
        "#serializing and saving the best model\n",
        "\n",
        "# Construct the path to the file\n",
        "file_path = os.path.join('DATA', 'rf_best_model.joblib')\n",
        "\n",
        "dump(rf_best_model, file_path)"
      ]
    },
    {
      "cell_type": "code",
      "execution_count": null,
      "metadata": {},
      "outputs": [],
      "source": [
        "#to load the model\n",
        "\n",
        "loaded_model = load('rf_best_model.joblib')"
      ]
    }
  ],
  "metadata": {
    "colab": {
      "provenance": []
    },
    "kernelspec": {
      "display_name": "Python 3 (ipykernel)",
      "language": "python",
      "name": "python3"
    },
    "language_info": {
      "codemirror_mode": {
        "name": "ipython",
        "version": 3
      },
      "file_extension": ".py",
      "mimetype": "text/x-python",
      "name": "python",
      "nbconvert_exporter": "python",
      "pygments_lexer": "ipython3",
      "version": "3.11.7"
    }
  },
  "nbformat": 4,
  "nbformat_minor": 0
}
